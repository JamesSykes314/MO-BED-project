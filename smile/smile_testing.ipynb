{
 "cells": [
  {
   "cell_type": "code",
   "execution_count": 1,
   "id": "initial_id",
   "metadata": {
    "collapsed": true,
    "ExecuteTime": {
     "end_time": "2024-09-09T14:50:52.040598Z",
     "start_time": "2024-09-09T14:50:48.492599Z"
    }
   },
   "outputs": [],
   "source": [
    "from rdkit import Chem\n",
    "from rdkit.Chem import Descriptors\n",
    "import numpy as np\n",
    "import pandas as pd"
   ]
  },
  {
   "cell_type": "code",
   "outputs": [
    {
     "name": "stderr",
     "output_type": "stream",
     "text": [
      "[16:15:26] DEPRECATION WARNING: please use MorganGenerator\n",
      "[16:15:26] DEPRECATION WARNING: please use MorganGenerator\n",
      "[16:15:26] DEPRECATION WARNING: please use MorganGenerator\n"
     ]
    },
    {
     "data": {
      "text/plain": "            Descriptor     Value\n0    MaxAbsEStateIndex  5.649907\n1       MaxEStateIndex  5.649907\n2    MinAbsEStateIndex  0.694635\n3       MinEStateIndex  0.694635\n4                  qed  0.670167\n..                 ...       ...\n205        fr_thiazole  0.000000\n206        fr_thiocyan  0.000000\n207       fr_thiophene  0.000000\n208   fr_unbrch_alkane  0.000000\n209            fr_urea  0.000000\n\n[210 rows x 2 columns]",
      "text/html": "<div>\n<style scoped>\n    .dataframe tbody tr th:only-of-type {\n        vertical-align: middle;\n    }\n\n    .dataframe tbody tr th {\n        vertical-align: top;\n    }\n\n    .dataframe thead th {\n        text-align: right;\n    }\n</style>\n<table border=\"1\" class=\"dataframe\">\n  <thead>\n    <tr style=\"text-align: right;\">\n      <th></th>\n      <th>Descriptor</th>\n      <th>Value</th>\n    </tr>\n  </thead>\n  <tbody>\n    <tr>\n      <th>0</th>\n      <td>MaxAbsEStateIndex</td>\n      <td>5.649907</td>\n    </tr>\n    <tr>\n      <th>1</th>\n      <td>MaxEStateIndex</td>\n      <td>5.649907</td>\n    </tr>\n    <tr>\n      <th>2</th>\n      <td>MinAbsEStateIndex</td>\n      <td>0.694635</td>\n    </tr>\n    <tr>\n      <th>3</th>\n      <td>MinEStateIndex</td>\n      <td>0.694635</td>\n    </tr>\n    <tr>\n      <th>4</th>\n      <td>qed</td>\n      <td>0.670167</td>\n    </tr>\n    <tr>\n      <th>...</th>\n      <td>...</td>\n      <td>...</td>\n    </tr>\n    <tr>\n      <th>205</th>\n      <td>fr_thiazole</td>\n      <td>0.000000</td>\n    </tr>\n    <tr>\n      <th>206</th>\n      <td>fr_thiocyan</td>\n      <td>0.000000</td>\n    </tr>\n    <tr>\n      <th>207</th>\n      <td>fr_thiophene</td>\n      <td>0.000000</td>\n    </tr>\n    <tr>\n      <th>208</th>\n      <td>fr_unbrch_alkane</td>\n      <td>0.000000</td>\n    </tr>\n    <tr>\n      <th>209</th>\n      <td>fr_urea</td>\n      <td>0.000000</td>\n    </tr>\n  </tbody>\n</table>\n<p>210 rows × 2 columns</p>\n</div>"
     },
     "execution_count": 13,
     "metadata": {},
     "output_type": "execute_result"
    }
   ],
   "source": [
    "d = Descriptors.CalcMolDescriptors(Chem.MolFromSmiles(\"CCC(CC)COC1=CC=CC=C1\"))\n",
    "df = pd.DataFrame(list(a.items()), columns=['Descriptor', 'Value'])\n",
    "df"
   ],
   "metadata": {
    "collapsed": false,
    "ExecuteTime": {
     "end_time": "2024-09-09T15:15:26.275814Z",
     "start_time": "2024-09-09T15:15:26.108502Z"
    }
   },
   "id": "b3f21355e7f8604a",
   "execution_count": 13
  },
  {
   "cell_type": "code",
   "outputs": [],
   "source": [],
   "metadata": {
    "collapsed": false
   },
   "id": "7ecb2b39a69f99cd"
  }
 ],
 "metadata": {
  "kernelspec": {
   "display_name": "Python 3",
   "language": "python",
   "name": "python3"
  },
  "language_info": {
   "codemirror_mode": {
    "name": "ipython",
    "version": 2
   },
   "file_extension": ".py",
   "mimetype": "text/x-python",
   "name": "python",
   "nbconvert_exporter": "python",
   "pygments_lexer": "ipython2",
   "version": "2.7.6"
  }
 },
 "nbformat": 4,
 "nbformat_minor": 5
}

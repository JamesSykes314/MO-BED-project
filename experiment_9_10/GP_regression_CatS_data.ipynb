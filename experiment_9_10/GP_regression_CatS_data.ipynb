{
 "cells": [
  {
   "cell_type": "code",
   "outputs": [],
   "source": [
    "import numpy as np\n",
    "import pandas as pd\n",
    "from SMILE_to_features import SMILE_series_to_features_df"
   ],
   "metadata": {
    "collapsed": false,
    "ExecuteTime": {
     "end_time": "2024-09-09T22:38:22.395738Z",
     "start_time": "2024-09-09T22:38:21.945904Z"
    }
   },
   "id": "f8b00842da7b3efa",
   "execution_count": 4
  },
  {
   "cell_type": "code",
   "execution_count": 7,
   "id": "initial_id",
   "metadata": {
    "collapsed": true,
    "ExecuteTime": {
     "end_time": "2024-09-09T22:50:01.055742Z",
     "start_time": "2024-09-09T22:50:00.951277Z"
    }
   },
   "outputs": [],
   "source": [
    "df = pd.read_csv(\"chem_data/CatS_score_compounds_D3R_GC4_answers.csv\")\n",
    "df = df.iloc[:,1]"
   ]
  },
  {
   "cell_type": "code",
   "outputs": [
    {
     "data": {
      "text/plain": "                                                SMILES  Molecular Weight  \\\n0    CC(C)N1CCN(CC1)C(=O)CSc2cc(ccc2C(F)(F)F)c3c4c(...           753.958   \n1    CS(=O)(=O)N1CCc2c(c(nn2CCCN3CCC(CC3)N4CCCC4=O)...           701.816   \n2    CS(=O)(=O)N1CCc2c(c(nn2CCCN3CCC(CC3)N4CCCC4=O)...           764.903   \n3    CS(=O)(=O)N1CCc2c(c(nn2CCCN3CCC(CC3)N4CCCC4=O)...           732.886   \n5    COC1CCN(CC1)CCSc2cc(ccc2C(F)(F)F)c3c4c(n(n3)CC...           726.932   \n..                                                 ...               ...   \n454  CN(C)Cc1cc(ccc1Cl)C#Cc2cc(ccc2Cl)c3c4c(n(n3)CC...           611.643   \n455  C[C@H]1COCCN1CCCn2c3c(c(n2)c4ccc(c(c4)C#Cc5ccc...           637.612   \n456  CN(C)Cc1cc(ccc1Cl)C#Cc2cc(ccc2Cl)c3c4c(n(n3)CC...           628.670   \n457  C[C@H]1COCCN1CCCn2c3c(c(n2)c4ccc(c(c4)C#Cc5ccc...           576.097   \n458  C[C@H]1COCCN1CCCn2c3c(c(n2)c4ccc(c(c4)C#Cc5ccc...           651.639   \n\n       LogP  Hydrogen Bond Donors  Hydrogen Bond Acceptors  \\\n0    4.0082                     0                        9   \n1    3.6174                     1                        8   \n2    5.7299                     0                        8   \n3    5.1867                     0                        8   \n5    4.5664                     0                        9   \n..      ...                   ...                      ...   \n454  5.1940                     1                        6   \n455  3.7991                     1                        7   \n456  5.5120                     0                        6   \n457  2.5764                     2                        7   \n458  4.2355                     2                        7   \n\n     Topological Polar Surface Area  Molar Refractivity  Rotatable Bonds  \\\n0                            102.30            190.6618               11   \n1                            120.74            176.4365               11   \n2                             81.99            182.5918               11   \n3                             81.99            177.9938               11   \n5                             91.22            183.8438               12   \n..                              ...                 ...              ...   \n454                           70.63            169.5754                7   \n455                           96.93            172.2824                7   \n456                           61.68            171.3618                8   \n457                          113.92            155.8042                6   \n458                          105.72            176.8671                8   \n\n     Aromatic Rings  Heavy Atoms  \n0                 2           51  \n1                 3           49  \n2                 2           51  \n3                 2           49  \n5                 2           49  \n..              ...          ...  \n454               3           41  \n455               3           44  \n456               3           42  \n457               3           41  \n458               3           45  \n\n[402 rows x 10 columns]",
      "text/html": "<div>\n<style scoped>\n    .dataframe tbody tr th:only-of-type {\n        vertical-align: middle;\n    }\n\n    .dataframe tbody tr th {\n        vertical-align: top;\n    }\n\n    .dataframe thead th {\n        text-align: right;\n    }\n</style>\n<table border=\"1\" class=\"dataframe\">\n  <thead>\n    <tr style=\"text-align: right;\">\n      <th></th>\n      <th>SMILES</th>\n      <th>Molecular Weight</th>\n      <th>LogP</th>\n      <th>Hydrogen Bond Donors</th>\n      <th>Hydrogen Bond Acceptors</th>\n      <th>Topological Polar Surface Area</th>\n      <th>Molar Refractivity</th>\n      <th>Rotatable Bonds</th>\n      <th>Aromatic Rings</th>\n      <th>Heavy Atoms</th>\n    </tr>\n  </thead>\n  <tbody>\n    <tr>\n      <th>0</th>\n      <td>CC(C)N1CCN(CC1)C(=O)CSc2cc(ccc2C(F)(F)F)c3c4c(...</td>\n      <td>753.958</td>\n      <td>4.0082</td>\n      <td>0</td>\n      <td>9</td>\n      <td>102.30</td>\n      <td>190.6618</td>\n      <td>11</td>\n      <td>2</td>\n      <td>51</td>\n    </tr>\n    <tr>\n      <th>1</th>\n      <td>CS(=O)(=O)N1CCc2c(c(nn2CCCN3CCC(CC3)N4CCCC4=O)...</td>\n      <td>701.816</td>\n      <td>3.6174</td>\n      <td>1</td>\n      <td>8</td>\n      <td>120.74</td>\n      <td>176.4365</td>\n      <td>11</td>\n      <td>3</td>\n      <td>49</td>\n    </tr>\n    <tr>\n      <th>2</th>\n      <td>CS(=O)(=O)N1CCc2c(c(nn2CCCN3CCC(CC3)N4CCCC4=O)...</td>\n      <td>764.903</td>\n      <td>5.7299</td>\n      <td>0</td>\n      <td>8</td>\n      <td>81.99</td>\n      <td>182.5918</td>\n      <td>11</td>\n      <td>2</td>\n      <td>51</td>\n    </tr>\n    <tr>\n      <th>3</th>\n      <td>CS(=O)(=O)N1CCc2c(c(nn2CCCN3CCC(CC3)N4CCCC4=O)...</td>\n      <td>732.886</td>\n      <td>5.1867</td>\n      <td>0</td>\n      <td>8</td>\n      <td>81.99</td>\n      <td>177.9938</td>\n      <td>11</td>\n      <td>2</td>\n      <td>49</td>\n    </tr>\n    <tr>\n      <th>5</th>\n      <td>COC1CCN(CC1)CCSc2cc(ccc2C(F)(F)F)c3c4c(n(n3)CC...</td>\n      <td>726.932</td>\n      <td>4.5664</td>\n      <td>0</td>\n      <td>9</td>\n      <td>91.22</td>\n      <td>183.8438</td>\n      <td>12</td>\n      <td>2</td>\n      <td>49</td>\n    </tr>\n    <tr>\n      <th>...</th>\n      <td>...</td>\n      <td>...</td>\n      <td>...</td>\n      <td>...</td>\n      <td>...</td>\n      <td>...</td>\n      <td>...</td>\n      <td>...</td>\n      <td>...</td>\n      <td>...</td>\n    </tr>\n    <tr>\n      <th>454</th>\n      <td>CN(C)Cc1cc(ccc1Cl)C#Cc2cc(ccc2Cl)c3c4c(n(n3)CC...</td>\n      <td>611.643</td>\n      <td>5.1940</td>\n      <td>1</td>\n      <td>6</td>\n      <td>70.63</td>\n      <td>169.5754</td>\n      <td>7</td>\n      <td>3</td>\n      <td>41</td>\n    </tr>\n    <tr>\n      <th>455</th>\n      <td>C[C@H]1COCCN1CCCn2c3c(c(n2)c4ccc(c(c4)C#Cc5ccc...</td>\n      <td>637.612</td>\n      <td>3.7991</td>\n      <td>1</td>\n      <td>7</td>\n      <td>96.93</td>\n      <td>172.2824</td>\n      <td>7</td>\n      <td>3</td>\n      <td>44</td>\n    </tr>\n    <tr>\n      <th>456</th>\n      <td>CN(C)Cc1cc(ccc1Cl)C#Cc2cc(ccc2Cl)c3c4c(n(n3)CC...</td>\n      <td>628.670</td>\n      <td>5.5120</td>\n      <td>0</td>\n      <td>6</td>\n      <td>61.68</td>\n      <td>171.3618</td>\n      <td>8</td>\n      <td>3</td>\n      <td>42</td>\n    </tr>\n    <tr>\n      <th>457</th>\n      <td>C[C@H]1COCCN1CCCn2c3c(c(n2)c4ccc(c(c4)C#Cc5ccc...</td>\n      <td>576.097</td>\n      <td>2.5764</td>\n      <td>2</td>\n      <td>7</td>\n      <td>113.92</td>\n      <td>155.8042</td>\n      <td>6</td>\n      <td>3</td>\n      <td>41</td>\n    </tr>\n    <tr>\n      <th>458</th>\n      <td>C[C@H]1COCCN1CCCn2c3c(c(n2)c4ccc(c(c4)C#Cc5ccc...</td>\n      <td>651.639</td>\n      <td>4.2355</td>\n      <td>2</td>\n      <td>7</td>\n      <td>105.72</td>\n      <td>176.8671</td>\n      <td>8</td>\n      <td>3</td>\n      <td>45</td>\n    </tr>\n  </tbody>\n</table>\n<p>402 rows × 10 columns</p>\n</div>"
     },
     "execution_count": 8,
     "metadata": {},
     "output_type": "execute_result"
    }
   ],
   "source": [
    "a = SMILE_series_to_features_df(df)\n",
    "a"
   ],
   "metadata": {
    "collapsed": false,
    "ExecuteTime": {
     "end_time": "2024-09-09T22:50:01.839221Z",
     "start_time": "2024-09-09T22:50:01.557952Z"
    }
   },
   "id": "124b2045c8d95cf3",
   "execution_count": 8
  },
  {
   "cell_type": "code",
   "outputs": [],
   "source": [
    "import sklearn\n"
   ],
   "metadata": {
    "collapsed": false
   },
   "id": "ea8cb2ecb28c6bc6"
  }
 ],
 "metadata": {
  "kernelspec": {
   "display_name": "Python 3",
   "language": "python",
   "name": "python3"
  },
  "language_info": {
   "codemirror_mode": {
    "name": "ipython",
    "version": 2
   },
   "file_extension": ".py",
   "mimetype": "text/x-python",
   "name": "python",
   "nbconvert_exporter": "python",
   "pygments_lexer": "ipython2",
   "version": "2.7.6"
  }
 },
 "nbformat": 4,
 "nbformat_minor": 5
}

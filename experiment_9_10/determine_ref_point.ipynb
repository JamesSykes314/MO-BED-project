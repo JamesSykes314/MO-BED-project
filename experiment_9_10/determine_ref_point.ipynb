{
 "cells": [
  {
   "cell_type": "code",
   "outputs": [],
   "source": [
    "import os\n",
    "import sys\n",
    "import time\n",
    "from IPython.display import display\n",
    "project_path = os.getcwd()\n",
    "sys.path.insert(0, project_path)\n",
    "\n",
    "# Set the path for objective function\n",
    "objective_path = os.path.join(project_path, '9in_10out')\n",
    "sys.path.insert(0, objective_path)\n",
    "\n",
    "import numpy as np\n",
    "import pandas as pd\n",
    "import torch\n",
    "from nextorch import plotting, bo, doe, utils, io, parameter\n",
    "\n",
    "def biomarker_inflammatory_response(variables):\n",
    "    return variables[:, 2] * np.exp(-variables[:, 4] / 100)\n",
    "\n",
    "\n",
    "def biomarker_oxidative_stress(variables):\n",
    "    return variables[:, 1] * np.sin(variables[:, 0] / 50) + variables[:, 5]\n",
    "\n",
    "\n",
    "def biomarker_neuroprotection(variables):\n",
    "    return np.tanh(variables[:, 7] + variables[:, 8] / 10)\n",
    "\n",
    "\n",
    "def biomarker_mitochondrial_function(variables):\n",
    "    return np.sqrt(variables[:, 0]) / (variables[:, 3] + 1)\n",
    "\n",
    "\n",
    "def biomarker_synaptic_function(variables):\n",
    "    return np.log1p(variables[:, 6]) * np.exp(-variables[:, 5] / 100)\n",
    "\n",
    "\n",
    "def biomarker_motor_function(variables):\n",
    "    return np.sin(variables[:, 0] / 20) * variables[:, 8]\n",
    "\n",
    "\n",
    "def biomarker_cognitive_function(variables):\n",
    "    return np.cos(variables[:, 1] / 2) * np.sqrt(variables[:, 8] + 1)\n",
    "\n",
    "\n",
    "def biomarker_cardiac_function(variables):\n",
    "    return np.exp(-variables[:, 4] / 100) + np.tanh(variables[:, 2])\n",
    "\n",
    "\n",
    "def biomarker_liver_function(variables):\n",
    "    return variables[:, 8] * np.log1p(variables[:, 5])\n",
    "\n",
    "\n",
    "def biomarker_kidney_function(variables):\n",
    "    return variables[:, 3] * np.sin(variables[:, 0] / 100) + np.exp(-variables[:, 6])\n",
    "\n",
    "\n",
    "def compute_biomarkers(X):\n",
    "    \"\"\"\n",
    "    Computes all biomarkers based on the input variables and combines them into a single array.\n",
    "    \"\"\"\n",
    "    X = X.astype(float)\n",
    "    inflammatory_response = -biomarker_inflammatory_response(X)\n",
    "    oxidative_stress = -biomarker_oxidative_stress(X)\n",
    "    neuroprotection = biomarker_neuroprotection(X)\n",
    "    mitochondrial_function = biomarker_mitochondrial_function(X)\n",
    "    synaptic_function = biomarker_synaptic_function(X)\n",
    "    motor_function = biomarker_motor_function(X)\n",
    "    cognitive_function = biomarker_cognitive_function(X)\n",
    "    cardiac_function = biomarker_cardiac_function(X)\n",
    "    liver_function = biomarker_liver_function(X)\n",
    "    kidney_function = biomarker_kidney_function(X)\n",
    "\n",
    "    # Combine all the biomarker outputs into a single numpy array\n",
    "    responses = np.column_stack((\n",
    "        inflammatory_response,\n",
    "        oxidative_stress,\n",
    "        neuroprotection,\n",
    "        mitochondrial_function,\n",
    "        synaptic_function,\n",
    "        motor_function,\n",
    "        cognitive_function,\n",
    "        cardiac_function,\n",
    "        liver_function,\n",
    "        kidney_function\n",
    "    ))\n",
    "\n",
    "    return responses"
   ],
   "metadata": {
    "collapsed": false,
    "ExecuteTime": {
     "end_time": "2024-09-06T14:18:27.000118Z",
     "start_time": "2024-09-06T14:18:23.570535Z"
    }
   },
   "id": "c7b0f36f61e77511",
   "execution_count": 1
  },
  {
   "cell_type": "code",
   "outputs": [],
   "source": [
    "# CSV to DataFrame\n",
    "input_data = pd.read_csv('compound_data')\n",
    "# Selection of compounds and removal of SMILES column\n",
    "input_data = input_data.iloc[:,1:]\n",
    "# Conversion to Numpy array\n",
    "input_data_array = input_data.to_numpy()"
   ],
   "metadata": {
    "collapsed": false,
    "ExecuteTime": {
     "end_time": "2024-09-06T14:20:59.341868Z",
     "start_time": "2024-09-06T14:20:59.311247Z"
    }
   },
   "id": "c2f81202e60469bb",
   "execution_count": 3
  },
  {
   "cell_type": "code",
   "execution_count": 6,
   "id": "initial_id",
   "metadata": {
    "collapsed": true,
    "ExecuteTime": {
     "end_time": "2024-09-06T14:24:04.539700Z",
     "start_time": "2024-09-06T14:24:04.501947Z"
    }
   },
   "outputs": [
    {
     "data": {
      "text/plain": "           0           1         2          3         4          5         6  \\\n0  -0.000000  -55.804452  0.997283  12.970698  0.393504  11.028323 -0.962680   \n1  -1.221216  -61.977681  0.989027   4.958718  1.024418 -15.961456  1.730211   \n2  -0.655472  -58.745219  0.998508   4.890490  0.752814 -15.567744  1.264801   \n3  -0.765597  -61.156167  0.986614   3.590691  0.588434 -11.652979  2.879845   \n4  -1.221216 -120.233350  0.999982   6.442015  0.695496  -4.868298 -5.082534   \n5  -0.000000  -50.271757  0.970452  12.175755  0.979390   9.945080 -0.479459   \n6  -0.765597  -85.969832  0.999451   4.201094  0.575760  20.996667 -0.139537   \n7  -0.679159  -53.404588  0.983675   3.502196  1.129033  -5.290535  2.882429   \n8  -0.000000  -54.568704  0.980096   6.675983  1.023377   6.357964 -0.669881   \n9  -0.000000  -43.209549  0.964028   5.835109  0.720354   5.025231  1.086946   \n10 -0.000000  -76.802772  0.999889  15.631283  0.483617  -6.506501 -3.972770   \n11 -0.000000  -66.509703  0.998508  14.502414  0.342223 -14.195063 -2.824778   \n12 -0.000000  -92.685658  0.999939  16.923888  0.420592  21.629707 -4.795101   \n13 -1.070844  -87.629714  0.999950   4.382843  0.666513   7.681331 -1.792144   \n14 -1.221216  -88.299489  0.999550   5.748410  0.848856  16.353679 -1.869589   \n15 -0.529406  -52.213216  0.986614   3.607397  0.808877 -12.506308  2.250959   \n16 -0.000000  -66.509703  0.998508  14.502414  0.342223 -14.195063 -2.824778   \n17 -0.816850  -67.961252  0.998778   7.521951  0.336573 -16.134992 -2.421956   \n18 -1.061780  -35.286278  0.716298   3.817722  0.976259   2.448813  3.084533   \n19 -1.320813  -59.851169  0.986614   3.616706  1.056440 -12.933572  3.027835   \n20 -0.000000  -90.215509  0.999939   8.491025  0.634515  21.128978 -4.660991   \n21 -0.000000 -109.071664  0.999967   9.089431  0.714115 -18.203197 -4.905750   \n22 -0.000000  -63.943744  0.998508   7.285122  0.704839 -14.852845 -1.975288   \n23 -0.000000  -83.350717  0.999329   5.440466  0.585426  13.677044 -0.806678   \n24 -0.000000  -92.579810  0.999939  16.923888  0.617130  21.629707 -4.793370   \n25 -0.000000 -108.362800  0.999995  17.900698  0.473201  -7.716567 -4.778561   \n26 -0.655472 -117.050677  0.999998   6.389644  0.585029 -12.859130 -5.260509   \n27 -0.000000  -58.130129  0.983675   4.634292  1.070879  -3.324057  1.390401   \n28 -0.744829  -65.501641  0.998778   5.036434  0.693202 -15.529604 -1.464368   \n29 -0.000000  -60.689919  0.983675  13.796014  1.101727  -1.282309 -2.565423   \n30 -0.000000  -76.635713  0.999181   7.974538  0.861810   2.882139 -3.795458   \n31 -0.770897  -29.674270  0.537050   4.668137  0.825698  -5.627777  2.231947   \n32 -0.000000  -66.438298  0.998508  14.502414  0.685528 -14.195063 -2.672708   \n33 -0.655472  -84.649587  0.999939   5.689659  0.677702  19.994191 -2.390082   \n34 -0.816850  -79.283893  0.999909   8.067466  0.475632   8.707043 -3.718222   \n35 -0.816850  -96.142166  0.999950   8.695070  0.606941  12.741080 -4.820493   \n36 -1.198670  -36.504707  0.964028   2.969954  0.000000   6.985111  2.873125   \n37 -1.061780  -45.653655  0.975743   4.284235  0.877272  11.026303  3.421949   \n38 -0.688665  -46.919785  0.975743   6.407105  0.685059  11.246668  1.662526   \n39 -0.000000  -46.257469  0.964028  11.585422  0.700618   4.149744  0.424180   \n40 -0.000000 -140.494555  0.999999  10.081778  0.585099  30.869179 -2.516868   \n41 -0.816850  -96.277130  0.999950   8.695070  0.413648  12.741080 -4.857805   \n42 -0.000000  -59.641848  0.983675   4.598188  0.598312  -1.254424  2.364010   \n43 -0.816850  -56.539245  0.997775   6.786715  0.387008   2.957833 -0.436769   \n44 -0.000000  -47.147132  0.970452   6.128234  0.868389  10.359502  0.722453   \n\n           7           8         9  \n0   1.000000   52.699178  0.367879  \n1   1.574636   66.829655  1.604034  \n2   1.417066   66.048905  1.720821  \n3   1.527191   62.249953  2.779372  \n4   1.574636  133.108369 -1.117976  \n5   1.000000   43.178891  0.018316  \n6   1.527191   94.230620  0.986999  \n7   1.440753   56.213411  2.775305  \n8   0.911832   52.561719  0.984360  \n9   0.911832   37.659794  1.113604  \n10  1.000000   83.969643  0.135335  \n11  1.000000   68.332604  0.367879  \n12  1.000000  100.646817  0.135335  \n13  1.499450  103.279432  0.222466  \n14  1.574636   99.141143  0.334570  \n15  1.291000   60.075677  2.666065  \n16  1.000000   68.332604  0.367879  \n17  1.578444   72.994259  1.137600  \n18  1.494918   32.268205  1.983056  \n19  1.624434   61.926962  2.602810  \n20  0.911832   99.970733  0.273166  \n21  0.911832  117.025719 -0.161483  \n22  0.911832   67.662473  0.901200  \n23  0.937255   89.365233  0.969285  \n24  1.000000  100.610957  0.018316  \n25  1.000000  117.165759  0.049787  \n26  1.417066  132.349310 -1.009307  \n27  0.882762   57.488977  1.872786  \n28  1.506424   72.298765  1.563752  \n29  1.000000   58.338088  0.000912  \n30  0.911832   83.830497  0.565356  \n31  1.532492   20.318005  0.900734  \n32  1.000000   68.297247  0.049787  \n33  1.417066   98.374344  0.470556  \n34  1.578444   88.786042  0.647955  \n35  1.578444  105.576157  0.135469  \n36  1.394611   36.331765  3.961922  \n37  1.494918   46.139619  2.043210  \n38  1.450259   46.511725  1.132799  \n39  1.000000   38.282935  0.135335  \n40  0.911832  151.674622 -0.797742  \n41  1.578444  105.613013  0.252488  \n42  0.937255   57.727623  2.026052  \n43  1.578444   57.151761  1.331227  \n44  0.911832   42.531527  1.047436  ",
      "text/html": "<div>\n<style scoped>\n    .dataframe tbody tr th:only-of-type {\n        vertical-align: middle;\n    }\n\n    .dataframe tbody tr th {\n        vertical-align: top;\n    }\n\n    .dataframe thead th {\n        text-align: right;\n    }\n</style>\n<table border=\"1\" class=\"dataframe\">\n  <thead>\n    <tr style=\"text-align: right;\">\n      <th></th>\n      <th>0</th>\n      <th>1</th>\n      <th>2</th>\n      <th>3</th>\n      <th>4</th>\n      <th>5</th>\n      <th>6</th>\n      <th>7</th>\n      <th>8</th>\n      <th>9</th>\n    </tr>\n  </thead>\n  <tbody>\n    <tr>\n      <th>0</th>\n      <td>-0.000000</td>\n      <td>-55.804452</td>\n      <td>0.997283</td>\n      <td>12.970698</td>\n      <td>0.393504</td>\n      <td>11.028323</td>\n      <td>-0.962680</td>\n      <td>1.000000</td>\n      <td>52.699178</td>\n      <td>0.367879</td>\n    </tr>\n    <tr>\n      <th>1</th>\n      <td>-1.221216</td>\n      <td>-61.977681</td>\n      <td>0.989027</td>\n      <td>4.958718</td>\n      <td>1.024418</td>\n      <td>-15.961456</td>\n      <td>1.730211</td>\n      <td>1.574636</td>\n      <td>66.829655</td>\n      <td>1.604034</td>\n    </tr>\n    <tr>\n      <th>2</th>\n      <td>-0.655472</td>\n      <td>-58.745219</td>\n      <td>0.998508</td>\n      <td>4.890490</td>\n      <td>0.752814</td>\n      <td>-15.567744</td>\n      <td>1.264801</td>\n      <td>1.417066</td>\n      <td>66.048905</td>\n      <td>1.720821</td>\n    </tr>\n    <tr>\n      <th>3</th>\n      <td>-0.765597</td>\n      <td>-61.156167</td>\n      <td>0.986614</td>\n      <td>3.590691</td>\n      <td>0.588434</td>\n      <td>-11.652979</td>\n      <td>2.879845</td>\n      <td>1.527191</td>\n      <td>62.249953</td>\n      <td>2.779372</td>\n    </tr>\n    <tr>\n      <th>4</th>\n      <td>-1.221216</td>\n      <td>-120.233350</td>\n      <td>0.999982</td>\n      <td>6.442015</td>\n      <td>0.695496</td>\n      <td>-4.868298</td>\n      <td>-5.082534</td>\n      <td>1.574636</td>\n      <td>133.108369</td>\n      <td>-1.117976</td>\n    </tr>\n    <tr>\n      <th>5</th>\n      <td>-0.000000</td>\n      <td>-50.271757</td>\n      <td>0.970452</td>\n      <td>12.175755</td>\n      <td>0.979390</td>\n      <td>9.945080</td>\n      <td>-0.479459</td>\n      <td>1.000000</td>\n      <td>43.178891</td>\n      <td>0.018316</td>\n    </tr>\n    <tr>\n      <th>6</th>\n      <td>-0.765597</td>\n      <td>-85.969832</td>\n      <td>0.999451</td>\n      <td>4.201094</td>\n      <td>0.575760</td>\n      <td>20.996667</td>\n      <td>-0.139537</td>\n      <td>1.527191</td>\n      <td>94.230620</td>\n      <td>0.986999</td>\n    </tr>\n    <tr>\n      <th>7</th>\n      <td>-0.679159</td>\n      <td>-53.404588</td>\n      <td>0.983675</td>\n      <td>3.502196</td>\n      <td>1.129033</td>\n      <td>-5.290535</td>\n      <td>2.882429</td>\n      <td>1.440753</td>\n      <td>56.213411</td>\n      <td>2.775305</td>\n    </tr>\n    <tr>\n      <th>8</th>\n      <td>-0.000000</td>\n      <td>-54.568704</td>\n      <td>0.980096</td>\n      <td>6.675983</td>\n      <td>1.023377</td>\n      <td>6.357964</td>\n      <td>-0.669881</td>\n      <td>0.911832</td>\n      <td>52.561719</td>\n      <td>0.984360</td>\n    </tr>\n    <tr>\n      <th>9</th>\n      <td>-0.000000</td>\n      <td>-43.209549</td>\n      <td>0.964028</td>\n      <td>5.835109</td>\n      <td>0.720354</td>\n      <td>5.025231</td>\n      <td>1.086946</td>\n      <td>0.911832</td>\n      <td>37.659794</td>\n      <td>1.113604</td>\n    </tr>\n    <tr>\n      <th>10</th>\n      <td>-0.000000</td>\n      <td>-76.802772</td>\n      <td>0.999889</td>\n      <td>15.631283</td>\n      <td>0.483617</td>\n      <td>-6.506501</td>\n      <td>-3.972770</td>\n      <td>1.000000</td>\n      <td>83.969643</td>\n      <td>0.135335</td>\n    </tr>\n    <tr>\n      <th>11</th>\n      <td>-0.000000</td>\n      <td>-66.509703</td>\n      <td>0.998508</td>\n      <td>14.502414</td>\n      <td>0.342223</td>\n      <td>-14.195063</td>\n      <td>-2.824778</td>\n      <td>1.000000</td>\n      <td>68.332604</td>\n      <td>0.367879</td>\n    </tr>\n    <tr>\n      <th>12</th>\n      <td>-0.000000</td>\n      <td>-92.685658</td>\n      <td>0.999939</td>\n      <td>16.923888</td>\n      <td>0.420592</td>\n      <td>21.629707</td>\n      <td>-4.795101</td>\n      <td>1.000000</td>\n      <td>100.646817</td>\n      <td>0.135335</td>\n    </tr>\n    <tr>\n      <th>13</th>\n      <td>-1.070844</td>\n      <td>-87.629714</td>\n      <td>0.999950</td>\n      <td>4.382843</td>\n      <td>0.666513</td>\n      <td>7.681331</td>\n      <td>-1.792144</td>\n      <td>1.499450</td>\n      <td>103.279432</td>\n      <td>0.222466</td>\n    </tr>\n    <tr>\n      <th>14</th>\n      <td>-1.221216</td>\n      <td>-88.299489</td>\n      <td>0.999550</td>\n      <td>5.748410</td>\n      <td>0.848856</td>\n      <td>16.353679</td>\n      <td>-1.869589</td>\n      <td>1.574636</td>\n      <td>99.141143</td>\n      <td>0.334570</td>\n    </tr>\n    <tr>\n      <th>15</th>\n      <td>-0.529406</td>\n      <td>-52.213216</td>\n      <td>0.986614</td>\n      <td>3.607397</td>\n      <td>0.808877</td>\n      <td>-12.506308</td>\n      <td>2.250959</td>\n      <td>1.291000</td>\n      <td>60.075677</td>\n      <td>2.666065</td>\n    </tr>\n    <tr>\n      <th>16</th>\n      <td>-0.000000</td>\n      <td>-66.509703</td>\n      <td>0.998508</td>\n      <td>14.502414</td>\n      <td>0.342223</td>\n      <td>-14.195063</td>\n      <td>-2.824778</td>\n      <td>1.000000</td>\n      <td>68.332604</td>\n      <td>0.367879</td>\n    </tr>\n    <tr>\n      <th>17</th>\n      <td>-0.816850</td>\n      <td>-67.961252</td>\n      <td>0.998778</td>\n      <td>7.521951</td>\n      <td>0.336573</td>\n      <td>-16.134992</td>\n      <td>-2.421956</td>\n      <td>1.578444</td>\n      <td>72.994259</td>\n      <td>1.137600</td>\n    </tr>\n    <tr>\n      <th>18</th>\n      <td>-1.061780</td>\n      <td>-35.286278</td>\n      <td>0.716298</td>\n      <td>3.817722</td>\n      <td>0.976259</td>\n      <td>2.448813</td>\n      <td>3.084533</td>\n      <td>1.494918</td>\n      <td>32.268205</td>\n      <td>1.983056</td>\n    </tr>\n    <tr>\n      <th>19</th>\n      <td>-1.320813</td>\n      <td>-59.851169</td>\n      <td>0.986614</td>\n      <td>3.616706</td>\n      <td>1.056440</td>\n      <td>-12.933572</td>\n      <td>3.027835</td>\n      <td>1.624434</td>\n      <td>61.926962</td>\n      <td>2.602810</td>\n    </tr>\n    <tr>\n      <th>20</th>\n      <td>-0.000000</td>\n      <td>-90.215509</td>\n      <td>0.999939</td>\n      <td>8.491025</td>\n      <td>0.634515</td>\n      <td>21.128978</td>\n      <td>-4.660991</td>\n      <td>0.911832</td>\n      <td>99.970733</td>\n      <td>0.273166</td>\n    </tr>\n    <tr>\n      <th>21</th>\n      <td>-0.000000</td>\n      <td>-109.071664</td>\n      <td>0.999967</td>\n      <td>9.089431</td>\n      <td>0.714115</td>\n      <td>-18.203197</td>\n      <td>-4.905750</td>\n      <td>0.911832</td>\n      <td>117.025719</td>\n      <td>-0.161483</td>\n    </tr>\n    <tr>\n      <th>22</th>\n      <td>-0.000000</td>\n      <td>-63.943744</td>\n      <td>0.998508</td>\n      <td>7.285122</td>\n      <td>0.704839</td>\n      <td>-14.852845</td>\n      <td>-1.975288</td>\n      <td>0.911832</td>\n      <td>67.662473</td>\n      <td>0.901200</td>\n    </tr>\n    <tr>\n      <th>23</th>\n      <td>-0.000000</td>\n      <td>-83.350717</td>\n      <td>0.999329</td>\n      <td>5.440466</td>\n      <td>0.585426</td>\n      <td>13.677044</td>\n      <td>-0.806678</td>\n      <td>0.937255</td>\n      <td>89.365233</td>\n      <td>0.969285</td>\n    </tr>\n    <tr>\n      <th>24</th>\n      <td>-0.000000</td>\n      <td>-92.579810</td>\n      <td>0.999939</td>\n      <td>16.923888</td>\n      <td>0.617130</td>\n      <td>21.629707</td>\n      <td>-4.793370</td>\n      <td>1.000000</td>\n      <td>100.610957</td>\n      <td>0.018316</td>\n    </tr>\n    <tr>\n      <th>25</th>\n      <td>-0.000000</td>\n      <td>-108.362800</td>\n      <td>0.999995</td>\n      <td>17.900698</td>\n      <td>0.473201</td>\n      <td>-7.716567</td>\n      <td>-4.778561</td>\n      <td>1.000000</td>\n      <td>117.165759</td>\n      <td>0.049787</td>\n    </tr>\n    <tr>\n      <th>26</th>\n      <td>-0.655472</td>\n      <td>-117.050677</td>\n      <td>0.999998</td>\n      <td>6.389644</td>\n      <td>0.585029</td>\n      <td>-12.859130</td>\n      <td>-5.260509</td>\n      <td>1.417066</td>\n      <td>132.349310</td>\n      <td>-1.009307</td>\n    </tr>\n    <tr>\n      <th>27</th>\n      <td>-0.000000</td>\n      <td>-58.130129</td>\n      <td>0.983675</td>\n      <td>4.634292</td>\n      <td>1.070879</td>\n      <td>-3.324057</td>\n      <td>1.390401</td>\n      <td>0.882762</td>\n      <td>57.488977</td>\n      <td>1.872786</td>\n    </tr>\n    <tr>\n      <th>28</th>\n      <td>-0.744829</td>\n      <td>-65.501641</td>\n      <td>0.998778</td>\n      <td>5.036434</td>\n      <td>0.693202</td>\n      <td>-15.529604</td>\n      <td>-1.464368</td>\n      <td>1.506424</td>\n      <td>72.298765</td>\n      <td>1.563752</td>\n    </tr>\n    <tr>\n      <th>29</th>\n      <td>-0.000000</td>\n      <td>-60.689919</td>\n      <td>0.983675</td>\n      <td>13.796014</td>\n      <td>1.101727</td>\n      <td>-1.282309</td>\n      <td>-2.565423</td>\n      <td>1.000000</td>\n      <td>58.338088</td>\n      <td>0.000912</td>\n    </tr>\n    <tr>\n      <th>30</th>\n      <td>-0.000000</td>\n      <td>-76.635713</td>\n      <td>0.999181</td>\n      <td>7.974538</td>\n      <td>0.861810</td>\n      <td>2.882139</td>\n      <td>-3.795458</td>\n      <td>0.911832</td>\n      <td>83.830497</td>\n      <td>0.565356</td>\n    </tr>\n    <tr>\n      <th>31</th>\n      <td>-0.770897</td>\n      <td>-29.674270</td>\n      <td>0.537050</td>\n      <td>4.668137</td>\n      <td>0.825698</td>\n      <td>-5.627777</td>\n      <td>2.231947</td>\n      <td>1.532492</td>\n      <td>20.318005</td>\n      <td>0.900734</td>\n    </tr>\n    <tr>\n      <th>32</th>\n      <td>-0.000000</td>\n      <td>-66.438298</td>\n      <td>0.998508</td>\n      <td>14.502414</td>\n      <td>0.685528</td>\n      <td>-14.195063</td>\n      <td>-2.672708</td>\n      <td>1.000000</td>\n      <td>68.297247</td>\n      <td>0.049787</td>\n    </tr>\n    <tr>\n      <th>33</th>\n      <td>-0.655472</td>\n      <td>-84.649587</td>\n      <td>0.999939</td>\n      <td>5.689659</td>\n      <td>0.677702</td>\n      <td>19.994191</td>\n      <td>-2.390082</td>\n      <td>1.417066</td>\n      <td>98.374344</td>\n      <td>0.470556</td>\n    </tr>\n    <tr>\n      <th>34</th>\n      <td>-0.816850</td>\n      <td>-79.283893</td>\n      <td>0.999909</td>\n      <td>8.067466</td>\n      <td>0.475632</td>\n      <td>8.707043</td>\n      <td>-3.718222</td>\n      <td>1.578444</td>\n      <td>88.786042</td>\n      <td>0.647955</td>\n    </tr>\n    <tr>\n      <th>35</th>\n      <td>-0.816850</td>\n      <td>-96.142166</td>\n      <td>0.999950</td>\n      <td>8.695070</td>\n      <td>0.606941</td>\n      <td>12.741080</td>\n      <td>-4.820493</td>\n      <td>1.578444</td>\n      <td>105.576157</td>\n      <td>0.135469</td>\n    </tr>\n    <tr>\n      <th>36</th>\n      <td>-1.198670</td>\n      <td>-36.504707</td>\n      <td>0.964028</td>\n      <td>2.969954</td>\n      <td>0.000000</td>\n      <td>6.985111</td>\n      <td>2.873125</td>\n      <td>1.394611</td>\n      <td>36.331765</td>\n      <td>3.961922</td>\n    </tr>\n    <tr>\n      <th>37</th>\n      <td>-1.061780</td>\n      <td>-45.653655</td>\n      <td>0.975743</td>\n      <td>4.284235</td>\n      <td>0.877272</td>\n      <td>11.026303</td>\n      <td>3.421949</td>\n      <td>1.494918</td>\n      <td>46.139619</td>\n      <td>2.043210</td>\n    </tr>\n    <tr>\n      <th>38</th>\n      <td>-0.688665</td>\n      <td>-46.919785</td>\n      <td>0.975743</td>\n      <td>6.407105</td>\n      <td>0.685059</td>\n      <td>11.246668</td>\n      <td>1.662526</td>\n      <td>1.450259</td>\n      <td>46.511725</td>\n      <td>1.132799</td>\n    </tr>\n    <tr>\n      <th>39</th>\n      <td>-0.000000</td>\n      <td>-46.257469</td>\n      <td>0.964028</td>\n      <td>11.585422</td>\n      <td>0.700618</td>\n      <td>4.149744</td>\n      <td>0.424180</td>\n      <td>1.000000</td>\n      <td>38.282935</td>\n      <td>0.135335</td>\n    </tr>\n    <tr>\n      <th>40</th>\n      <td>-0.000000</td>\n      <td>-140.494555</td>\n      <td>0.999999</td>\n      <td>10.081778</td>\n      <td>0.585099</td>\n      <td>30.869179</td>\n      <td>-2.516868</td>\n      <td>0.911832</td>\n      <td>151.674622</td>\n      <td>-0.797742</td>\n    </tr>\n    <tr>\n      <th>41</th>\n      <td>-0.816850</td>\n      <td>-96.277130</td>\n      <td>0.999950</td>\n      <td>8.695070</td>\n      <td>0.413648</td>\n      <td>12.741080</td>\n      <td>-4.857805</td>\n      <td>1.578444</td>\n      <td>105.613013</td>\n      <td>0.252488</td>\n    </tr>\n    <tr>\n      <th>42</th>\n      <td>-0.000000</td>\n      <td>-59.641848</td>\n      <td>0.983675</td>\n      <td>4.598188</td>\n      <td>0.598312</td>\n      <td>-1.254424</td>\n      <td>2.364010</td>\n      <td>0.937255</td>\n      <td>57.727623</td>\n      <td>2.026052</td>\n    </tr>\n    <tr>\n      <th>43</th>\n      <td>-0.816850</td>\n      <td>-56.539245</td>\n      <td>0.997775</td>\n      <td>6.786715</td>\n      <td>0.387008</td>\n      <td>2.957833</td>\n      <td>-0.436769</td>\n      <td>1.578444</td>\n      <td>57.151761</td>\n      <td>1.331227</td>\n    </tr>\n    <tr>\n      <th>44</th>\n      <td>-0.000000</td>\n      <td>-47.147132</td>\n      <td>0.970452</td>\n      <td>6.128234</td>\n      <td>0.868389</td>\n      <td>10.359502</td>\n      <td>0.722453</td>\n      <td>0.911832</td>\n      <td>42.531527</td>\n      <td>1.047436</td>\n    </tr>\n  </tbody>\n</table>\n</div>"
     },
     "execution_count": 6,
     "metadata": {},
     "output_type": "execute_result"
    }
   ],
   "source": [
    "objective_func = compute_biomarkers\n",
    "res1 = pd.DataFrame(objective_func(input_data_array))\n",
    "res1"
   ]
  },
  {
   "cell_type": "code",
   "outputs": [
    {
     "data": {
      "text/plain": "           0          1         2         3         4          5         6  \\\n6  -0.765597 -85.969832  0.999451  4.201094  0.575760  20.996667 -0.139537   \n23 -0.000000 -83.350717  0.999329  5.440466  0.585426  13.677044 -0.806678   \n33 -0.655472 -84.649587  0.999939  5.689659  0.677702  19.994191 -2.390082   \n42 -0.000000 -59.641848  0.983675  4.598188  0.598312  -1.254424  2.364010   \n\n           7          8         9  \n6   1.527191  94.230620  0.986999  \n23  0.937255  89.365233  0.969285  \n33  1.417066  98.374344  0.470556  \n42  0.937255  57.727623  2.026052  ",
      "text/html": "<div>\n<style scoped>\n    .dataframe tbody tr th:only-of-type {\n        vertical-align: middle;\n    }\n\n    .dataframe tbody tr th {\n        vertical-align: top;\n    }\n\n    .dataframe thead th {\n        text-align: right;\n    }\n</style>\n<table border=\"1\" class=\"dataframe\">\n  <thead>\n    <tr style=\"text-align: right;\">\n      <th></th>\n      <th>0</th>\n      <th>1</th>\n      <th>2</th>\n      <th>3</th>\n      <th>4</th>\n      <th>5</th>\n      <th>6</th>\n      <th>7</th>\n      <th>8</th>\n      <th>9</th>\n    </tr>\n  </thead>\n  <tbody>\n    <tr>\n      <th>6</th>\n      <td>-0.765597</td>\n      <td>-85.969832</td>\n      <td>0.999451</td>\n      <td>4.201094</td>\n      <td>0.575760</td>\n      <td>20.996667</td>\n      <td>-0.139537</td>\n      <td>1.527191</td>\n      <td>94.230620</td>\n      <td>0.986999</td>\n    </tr>\n    <tr>\n      <th>23</th>\n      <td>-0.000000</td>\n      <td>-83.350717</td>\n      <td>0.999329</td>\n      <td>5.440466</td>\n      <td>0.585426</td>\n      <td>13.677044</td>\n      <td>-0.806678</td>\n      <td>0.937255</td>\n      <td>89.365233</td>\n      <td>0.969285</td>\n    </tr>\n    <tr>\n      <th>33</th>\n      <td>-0.655472</td>\n      <td>-84.649587</td>\n      <td>0.999939</td>\n      <td>5.689659</td>\n      <td>0.677702</td>\n      <td>19.994191</td>\n      <td>-2.390082</td>\n      <td>1.417066</td>\n      <td>98.374344</td>\n      <td>0.470556</td>\n    </tr>\n    <tr>\n      <th>42</th>\n      <td>-0.000000</td>\n      <td>-59.641848</td>\n      <td>0.983675</td>\n      <td>4.598188</td>\n      <td>0.598312</td>\n      <td>-1.254424</td>\n      <td>2.364010</td>\n      <td>0.937255</td>\n      <td>57.727623</td>\n      <td>2.026052</td>\n    </tr>\n  </tbody>\n</table>\n</div>"
     },
     "execution_count": 34,
     "metadata": {},
     "output_type": "execute_result"
    }
   ],
   "source": [
    "res1[(res1.iloc[:, 0] > -0.8) & (res1.iloc[:, 1] > -90) & (res1.iloc[:, 2] > 0.98) & (res1.iloc[:, 3] > 4) & (\n",
    "            res1.iloc[:, 4] > 0.55) & (res1.iloc[:, 5] > -5) & (res1.iloc[:, 6] > -3) & (res1.iloc[:, 7] > 0.93) & (\n",
    "                 res1.iloc[:, 8] > 55) & (res1.iloc[:, 9] > 0.45)]"
   ],
   "metadata": {
    "collapsed": false,
    "ExecuteTime": {
     "end_time": "2024-09-08T12:38:31.211119Z",
     "start_time": "2024-09-08T12:38:31.177324Z"
    }
   },
   "id": "269ca08f9ee02771",
   "execution_count": 34
  }
 ],
 "metadata": {
  "kernelspec": {
   "display_name": "Python 3",
   "language": "python",
   "name": "python3"
  },
  "language_info": {
   "codemirror_mode": {
    "name": "ipython",
    "version": 2
   },
   "file_extension": ".py",
   "mimetype": "text/x-python",
   "name": "python",
   "nbconvert_exporter": "python",
   "pygments_lexer": "ipython2",
   "version": "2.7.6"
  }
 },
 "nbformat": 4,
 "nbformat_minor": 5
}

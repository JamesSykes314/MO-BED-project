{
 "cells": [
  {
   "cell_type": "code",
   "execution_count": 1,
   "id": "initial_id",
   "metadata": {
    "collapsed": true,
    "ExecuteTime": {
     "end_time": "2024-09-13T11:00:30.418301Z",
     "start_time": "2024-09-13T11:00:29.796302Z"
    }
   },
   "outputs": [],
   "source": [
    "import benchmark_functions as bf\n",
    "import numpy as np"
   ]
  },
  {
   "cell_type": "code",
   "outputs": [],
   "source": [
    "func = bf.Rosenbrock(n_dimensions=2)"
   ],
   "metadata": {
    "collapsed": false,
    "ExecuteTime": {
     "end_time": "2024-09-15T18:14:58.651803Z",
     "start_time": "2024-09-15T18:14:58.632551Z"
    }
   },
   "id": "85db7ea97611ec3a",
   "execution_count": 56
  },
  {
   "cell_type": "code",
   "outputs": [
    {
     "data": {
      "text/plain": "0.0"
     },
     "execution_count": 61,
     "metadata": {},
     "output_type": "execute_result"
    }
   ],
   "source": [
    "func.minimum().score"
   ],
   "metadata": {
    "collapsed": false,
    "ExecuteTime": {
     "end_time": "2024-09-15T18:15:30.044051Z",
     "start_time": "2024-09-15T18:15:30.031273Z"
    }
   },
   "id": "476f953bfdf41d",
   "execution_count": 61
  },
  {
   "cell_type": "code",
   "outputs": [
    {
     "data": {
      "text/plain": "([-500.0, -500.0, -500.0, -500.0], [500.0, 500.0, 500.0, 500.0])"
     },
     "execution_count": 4,
     "metadata": {},
     "output_type": "execute_result"
    }
   ],
   "source": [
    "func.suggested_bounds()"
   ],
   "metadata": {
    "collapsed": false,
    "ExecuteTime": {
     "end_time": "2024-09-13T11:03:02.856839Z",
     "start_time": "2024-09-13T11:03:02.839488Z"
    }
   },
   "id": "a5fb0bc67fd36411",
   "execution_count": 4
  },
  {
   "cell_type": "code",
   "outputs": [
    {
     "data": {
      "text/plain": "array([[1, 2, 3, 7],\n       [4, 5, 6, 8]])"
     },
     "execution_count": 9,
     "metadata": {},
     "output_type": "execute_result"
    }
   ],
   "source": [
    "np.append([[1, 2, 3], [4, 5, 6]], [[7], [8]], axis=1)"
   ],
   "metadata": {
    "collapsed": false,
    "ExecuteTime": {
     "end_time": "2024-09-13T12:43:35.046863Z",
     "start_time": "2024-09-13T12:43:35.038205Z"
    }
   },
   "id": "669c01f463fab99f",
   "execution_count": 9
  },
  {
   "cell_type": "code",
   "outputs": [
    {
     "data": {
      "text/plain": "[420.9687, 420.9687, 420.9687, 420.9687]"
     },
     "execution_count": 14,
     "metadata": {},
     "output_type": "execute_result"
    }
   ],
   "source": [
    "func.minimum().position"
   ],
   "metadata": {
    "collapsed": false,
    "ExecuteTime": {
     "end_time": "2024-09-13T17:26:04.134924Z",
     "start_time": "2024-09-13T17:26:04.118634Z"
    }
   },
   "id": "c5e23c9ea8b45465",
   "execution_count": 14
  },
  {
   "cell_type": "code",
   "outputs": [
    {
     "ename": "AxisError",
     "evalue": "axis 1 is out of bounds for array of dimension 1",
     "output_type": "error",
     "traceback": [
      "\u001B[0;31m---------------------------------------------------------------------------\u001B[0m",
      "\u001B[0;31mAxisError\u001B[0m                                 Traceback (most recent call last)",
      "Cell \u001B[0;32mIn[25], line 1\u001B[0m\n\u001B[0;32m----> 1\u001B[0m a \u001B[38;5;241m=\u001B[39m \u001B[43mnp\u001B[49m\u001B[38;5;241;43m.\u001B[39;49m\u001B[43mappend\u001B[49m\u001B[43m(\u001B[49m\u001B[43ma\u001B[49m\u001B[43m,\u001B[49m\u001B[43m \u001B[49m\u001B[43m[\u001B[49m\u001B[43m[\u001B[49m\u001B[38;5;241;43m1\u001B[39;49m\u001B[43m,\u001B[49m\u001B[38;5;241;43m2\u001B[39;49m\u001B[43m]\u001B[49m\u001B[43m]\u001B[49m\u001B[43m,\u001B[49m\u001B[43m \u001B[49m\u001B[43maxis\u001B[49m\u001B[43m \u001B[49m\u001B[38;5;241;43m=\u001B[39;49m\u001B[43m \u001B[49m\u001B[38;5;241;43m1\u001B[39;49m\u001B[43m)\u001B[49m\n\u001B[1;32m      2\u001B[0m a\n",
      "File \u001B[0;32m<__array_function__ internals>:200\u001B[0m, in \u001B[0;36mappend\u001B[0;34m(*args, **kwargs)\u001B[0m\n",
      "File \u001B[0;32m~/Documents/Summer 2024/MO-BED Project/MO-BED-project/.venv/lib/python3.8/site-packages/numpy/lib/function_base.py:5499\u001B[0m, in \u001B[0;36mappend\u001B[0;34m(arr, values, axis)\u001B[0m\n\u001B[1;32m   5497\u001B[0m     values \u001B[38;5;241m=\u001B[39m ravel(values)\n\u001B[1;32m   5498\u001B[0m     axis \u001B[38;5;241m=\u001B[39m arr\u001B[38;5;241m.\u001B[39mndim\u001B[38;5;241m-\u001B[39m\u001B[38;5;241m1\u001B[39m\n\u001B[0;32m-> 5499\u001B[0m \u001B[38;5;28;01mreturn\u001B[39;00m \u001B[43mconcatenate\u001B[49m\u001B[43m(\u001B[49m\u001B[43m(\u001B[49m\u001B[43marr\u001B[49m\u001B[43m,\u001B[49m\u001B[43m \u001B[49m\u001B[43mvalues\u001B[49m\u001B[43m)\u001B[49m\u001B[43m,\u001B[49m\u001B[43m \u001B[49m\u001B[43maxis\u001B[49m\u001B[38;5;241;43m=\u001B[39;49m\u001B[43maxis\u001B[49m\u001B[43m)\u001B[49m\n",
      "File \u001B[0;32m<__array_function__ internals>:200\u001B[0m, in \u001B[0;36mconcatenate\u001B[0;34m(*args, **kwargs)\u001B[0m\n",
      "\u001B[0;31mAxisError\u001B[0m: axis 1 is out of bounds for array of dimension 1"
     ]
    }
   ],
   "source": [
    "a = np.append(a, [[1, 2]], axis = 1)\n",
    "a"
   ],
   "metadata": {
    "collapsed": false,
    "ExecuteTime": {
     "end_time": "2024-09-13T17:53:57.667057Z",
     "start_time": "2024-09-13T17:53:57.559512Z"
    }
   },
   "id": "ca40d0b8ea2190e7",
   "execution_count": 25
  },
  {
   "cell_type": "code",
   "outputs": [],
   "source": [
    "a = np.array([])"
   ],
   "metadata": {
    "collapsed": false,
    "ExecuteTime": {
     "end_time": "2024-09-13T17:53:46.560373Z",
     "start_time": "2024-09-13T17:53:46.534237Z"
    }
   },
   "id": "13b26eeb67b09773",
   "execution_count": 23
  },
  {
   "cell_type": "code",
   "outputs": [],
   "source": [
    "b = np.array([[2], [3], [5]])"
   ],
   "metadata": {
    "collapsed": false,
    "ExecuteTime": {
     "end_time": "2024-09-14T16:39:31.484410Z",
     "start_time": "2024-09-14T16:39:31.430696Z"
    }
   },
   "id": "c4414089480daa5c",
   "execution_count": 26
  },
  {
   "cell_type": "code",
   "outputs": [
    {
     "data": {
      "text/plain": "2"
     },
     "execution_count": 32,
     "metadata": {},
     "output_type": "execute_result"
    }
   ],
   "source": [
    "b[0,0]"
   ],
   "metadata": {
    "collapsed": false,
    "ExecuteTime": {
     "end_time": "2024-09-14T16:48:24.483499Z",
     "start_time": "2024-09-14T16:48:24.467725Z"
    }
   },
   "id": "86fd5529d0c81f62",
   "execution_count": 32
  },
  {
   "cell_type": "code",
   "outputs": [],
   "source": [
    "import bayesian_optimisation as bayopt"
   ],
   "metadata": {
    "collapsed": false,
    "ExecuteTime": {
     "end_time": "2024-09-14T16:50:05.751655Z",
     "start_time": "2024-09-14T16:50:03.123427Z"
    }
   },
   "id": "5ad88d2069824473",
   "execution_count": 33
  },
  {
   "cell_type": "code",
   "outputs": [],
   "source": [
    "def squared(x):\n",
    "    return x**2\n",
    "sq = bayopt.function_numpy_conversion(squared)"
   ],
   "metadata": {
    "collapsed": false,
    "ExecuteTime": {
     "end_time": "2024-09-14T16:50:38.340380Z",
     "start_time": "2024-09-14T16:50:38.335115Z"
    }
   },
   "id": "f44d0a0284e5d88c",
   "execution_count": 34
  },
  {
   "cell_type": "code",
   "outputs": [
    {
     "ename": "TypeError",
     "evalue": "unsupported operand type(s) for ** or pow(): 'list' and 'int'",
     "output_type": "error",
     "traceback": [
      "\u001B[0;31m---------------------------------------------------------------------------\u001B[0m",
      "\u001B[0;31mTypeError\u001B[0m                                 Traceback (most recent call last)",
      "Cell \u001B[0;32mIn[37], line 1\u001B[0m\n\u001B[0;32m----> 1\u001B[0m \u001B[43msq\u001B[49m\u001B[43m(\u001B[49m\u001B[43mnp\u001B[49m\u001B[38;5;241;43m.\u001B[39;49m\u001B[43marray\u001B[49m\u001B[43m(\u001B[49m\u001B[43m[\u001B[49m\u001B[38;5;241;43m1\u001B[39;49m\u001B[43m,\u001B[49m\u001B[38;5;241;43m2\u001B[39;49m\u001B[43m]\u001B[49m\u001B[43m)\u001B[49m\u001B[43m)\u001B[49m\n",
      "File \u001B[0;32m~/Documents/Summer 2024/MO-BED Project/MO-BED-project/bayesian_optimisation.py:23\u001B[0m, in \u001B[0;36mfunction_numpy_conversion.<locals>.new_func\u001B[0;34m(X)\u001B[0m\n\u001B[1;32m     21\u001B[0m         y \u001B[38;5;241m=\u001B[39m np\u001B[38;5;241m.\u001B[39mappend(y, y_new)\n\u001B[1;32m     22\u001B[0m     \u001B[38;5;28;01melse\u001B[39;00m:\n\u001B[0;32m---> 23\u001B[0m         y_new \u001B[38;5;241m=\u001B[39m \u001B[43mfunc\u001B[49m\u001B[43m(\u001B[49m\u001B[43mX\u001B[49m\u001B[43m[\u001B[49m\u001B[43mi\u001B[49m\u001B[43m,\u001B[49m\u001B[43m \u001B[49m\u001B[43m:\u001B[49m\u001B[43m]\u001B[49m\u001B[38;5;241;43m.\u001B[39;49m\u001B[43mtolist\u001B[49m\u001B[43m(\u001B[49m\u001B[43m)\u001B[49m\u001B[43m)\u001B[49m\n\u001B[1;32m     24\u001B[0m         y \u001B[38;5;241m=\u001B[39m np\u001B[38;5;241m.\u001B[39mappend(y, y_new)\n\u001B[1;32m     25\u001B[0m y \u001B[38;5;241m=\u001B[39m y\u001B[38;5;241m.\u001B[39mreshape(X\u001B[38;5;241m.\u001B[39mshape[\u001B[38;5;241m0\u001B[39m],\u001B[38;5;241m-\u001B[39m\u001B[38;5;241m1\u001B[39m)\n",
      "Cell \u001B[0;32mIn[34], line 2\u001B[0m, in \u001B[0;36msquared\u001B[0;34m(x)\u001B[0m\n\u001B[1;32m      1\u001B[0m \u001B[38;5;28;01mdef\u001B[39;00m \u001B[38;5;21msquared\u001B[39m(x):\n\u001B[0;32m----> 2\u001B[0m     \u001B[38;5;28;01mreturn\u001B[39;00m \u001B[43mx\u001B[49m\u001B[38;5;241;43m*\u001B[39;49m\u001B[38;5;241;43m*\u001B[39;49m\u001B[38;5;241;43m2\u001B[39;49m\n",
      "\u001B[0;31mTypeError\u001B[0m: unsupported operand type(s) for ** or pow(): 'list' and 'int'"
     ]
    }
   ],
   "source": [
    "sq(np.array([1,2]))"
   ],
   "metadata": {
    "collapsed": false,
    "ExecuteTime": {
     "end_time": "2024-09-14T16:51:27.215006Z",
     "start_time": "2024-09-14T16:51:27.128654Z"
    }
   },
   "id": "f40e7a4ac737d4ac",
   "execution_count": 37
  },
  {
   "cell_type": "code",
   "outputs": [
    {
     "name": "stdout",
     "output_type": "stream",
     "text": [
      "True\n",
      "True\n"
     ]
    }
   ],
   "source": [
    "f = np.array([1,2], dtype=np.float32)\n",
    "g = np.array([1,2], dtype=np.float64)\n",
    "print(isinstance(f[0], (float, int, np.float32, np.float64)))\n",
    "print(isinstance(g[0], (float, int, np.float32, np.float64)))"
   ],
   "metadata": {
    "collapsed": false,
    "ExecuteTime": {
     "end_time": "2024-09-14T18:22:59.513488Z",
     "start_time": "2024-09-14T18:22:59.505157Z"
    }
   },
   "id": "86dd0ad6ce38c724",
   "execution_count": 55
  },
  {
   "cell_type": "code",
   "outputs": [],
   "source": [
    "from nextorch import utils as ut"
   ],
   "metadata": {
    "collapsed": false,
    "ExecuteTime": {
     "end_time": "2024-09-16T11:47:40.579008Z",
     "start_time": "2024-09-16T11:47:40.558543Z"
    }
   },
   "id": "3d2edb009882c997",
   "execution_count": 62
  },
  {
   "cell_type": "code",
   "outputs": [
    {
     "data": {
      "text/plain": "tensor([3.0000, 1.5000])"
     },
     "execution_count": 65,
     "metadata": {},
     "output_type": "execute_result"
    }
   ],
   "source": [
    "ut.standardize_X([9, 4], [3, 1], [2, 2])"
   ],
   "metadata": {
    "collapsed": false,
    "ExecuteTime": {
     "end_time": "2024-09-16T11:48:46.723248Z",
     "start_time": "2024-09-16T11:48:46.710849Z"
    }
   },
   "id": "831abb735b80ae48",
   "execution_count": 65
  },
  {
   "cell_type": "code",
   "outputs": [],
   "source": [
    "func = bf.Ackley(4)"
   ],
   "metadata": {
    "collapsed": false,
    "ExecuteTime": {
     "end_time": "2024-09-16T12:24:05.859983Z",
     "start_time": "2024-09-16T12:24:05.812684Z"
    }
   },
   "id": "7061bc2c71b3c549",
   "execution_count": 66
  },
  {
   "cell_type": "code",
   "outputs": [
    {
     "data": {
      "text/plain": "4.440892098500626e-16"
     },
     "execution_count": 71,
     "metadata": {},
     "output_type": "execute_result"
    }
   ],
   "source": [
    "func.minimum().score"
   ],
   "metadata": {
    "collapsed": false,
    "ExecuteTime": {
     "end_time": "2024-09-17T11:57:03.571934Z",
     "start_time": "2024-09-17T11:57:03.521357Z"
    }
   },
   "id": "6258ade59266ba64",
   "execution_count": 71
  },
  {
   "cell_type": "code",
   "outputs": [
    {
     "name": "stdout",
     "output_type": "stream",
     "text": [
      "4.440892098500626e-16\n",
      "4.440892098500626e-16\n",
      "4.440892098500626e-16\n",
      "4.440892098500626e-16\n",
      "4.440892098500626e-16\n",
      "4.440892098500626e-16\n",
      "4.440892098500626e-16\n",
      "4.440892098500626e-16\n",
      "4.440892098500626e-16\n",
      "4.440892098500626e-16\n",
      "4.440892098500626e-16\n",
      "4.440892098500626e-16\n",
      "4.440892098500626e-16\n",
      "4.440892098500626e-16\n",
      "4.440892098500626e-16\n"
     ]
    }
   ],
   "source": [
    "for i in range(2, 17):\n",
    "    func = bf.Ackley(i)\n",
    "    print(func.minimum().score)"
   ],
   "metadata": {
    "collapsed": false,
    "ExecuteTime": {
     "end_time": "2024-09-17T11:58:00.465333Z",
     "start_time": "2024-09-17T11:58:00.453072Z"
    }
   },
   "id": "31f2d9f5b7bbde0a",
   "execution_count": 73
  },
  {
   "cell_type": "code",
   "outputs": [],
   "source": [],
   "metadata": {
    "collapsed": false
   },
   "id": "c7807c63368cb52b"
  }
 ],
 "metadata": {
  "kernelspec": {
   "display_name": "Python 3",
   "language": "python",
   "name": "python3"
  },
  "language_info": {
   "codemirror_mode": {
    "name": "ipython",
    "version": 2
   },
   "file_extension": ".py",
   "mimetype": "text/x-python",
   "name": "python",
   "nbconvert_exporter": "python",
   "pygments_lexer": "ipython2",
   "version": "2.7.6"
  }
 },
 "nbformat": 4,
 "nbformat_minor": 5
}

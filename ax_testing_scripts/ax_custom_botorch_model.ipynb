{
 "cells": [
  {
   "cell_type": "code",
   "execution_count": 3,
   "id": "initial_id",
   "metadata": {
    "collapsed": true,
    "ExecuteTime": {
     "end_time": "2024-09-18T16:00:54.266942Z",
     "start_time": "2024-09-18T16:00:54.192906Z"
    }
   },
   "outputs": [],
   "source": [
    "import os\n",
    "from contextlib import contextmanager\n",
    "\n",
    "from ax.utils.testing.mock import fast_botorch_optimize_context_manager\n",
    "import plotly.io as pio\n",
    "# Ax uses Plotly to produce interactive plots. These are great for viewing and analysis,\n",
    "# though they also lead to large file sizes, which is not ideal for files living in GH.\n",
    "# Changing the default to `png` strips the interactive components to get around this.\n",
    "pio.renderers.default = \"png\"\n",
    "\n",
    "SMOKE_TEST = os.environ.get(\"SMOKE_TEST\")\n",
    "NUM_EVALS = 10 if SMOKE_TEST else 30\n",
    "\n",
    "\n",
    "@contextmanager\n",
    "def dummy_context_manager():\n",
    "    yield\n",
    "\n",
    "\n",
    "if SMOKE_TEST:\n",
    "    fast_smoke_test = fast_botorch_optimize_context_manager\n",
    "else:\n",
    "    fast_smoke_test = dummy_context_manager"
   ]
  },
  {
   "cell_type": "code",
   "outputs": [],
   "source": [
    "from botorch.models.gpytorch import GPyTorchModel\n",
    "from botorch.utils.datasets import SupervisedDataset\n",
    "from gpytorch.distributions import MultivariateNormal\n",
    "from gpytorch.kernels import RBFKernel, ScaleKernel\n",
    "from gpytorch.likelihoods import GaussianLikelihood\n",
    "from gpytorch.means import ConstantMean\n",
    "from gpytorch.models import ExactGP\n",
    "\n",
    "\n",
    "class SimpleCustomGP(ExactGP, GPyTorchModel):\n",
    "\n",
    "    _num_outputs = 1  # to inform GPyTorchModel API\n",
    "\n",
    "    def __init__(self, train_X, train_Y):\n",
    "        # squeeze output dim before passing train_Y to ExactGP\n",
    "        super().__init__(train_X, train_Y.squeeze(-1), GaussianLikelihood())\n",
    "        self.mean_module = ConstantMean()\n",
    "        self.covar_module = ScaleKernel(\n",
    "            base_kernel=RBFKernel(ard_num_dims=train_X.shape[-1]),\n",
    "        )\n",
    "        self.to(train_X)  # make sure we're on the right device/dtype\n",
    "\n",
    "    def forward(self, x):\n",
    "        mean_x = self.mean_module(x)\n",
    "        covar_x = self.covar_module(x)\n",
    "        return MultivariateNormal(mean_x, covar_x)"
   ],
   "metadata": {
    "collapsed": false,
    "ExecuteTime": {
     "end_time": "2024-09-18T16:03:51.542328Z",
     "start_time": "2024-09-18T16:03:51.463713Z"
    }
   },
   "id": "7d4ea433d17a1740",
   "execution_count": 4
  },
  {
   "cell_type": "code",
   "outputs": [],
   "source": [
    "from ax.models.torch.botorch_modular.model import BoTorchModel\n",
    "from ax.models.torch.botorch_modular.surrogate import Surrogate\n",
    "\n",
    "\n",
    "ax_model = BoTorchModel(\n",
    "    surrogate=Surrogate(\n",
    "        # The model class to use\n",
    "        botorch_model_class=SimpleCustomGP,\n",
    "        # Optional, MLL class with which to optimize model parameters\n",
    "        # mll_class=ExactMarginalLogLikelihood,\n",
    "        # Optional, dictionary of keyword arguments to model constructor\n",
    "        # model_options={}\n",
    "    ),\n",
    "    # Optional, acquisition function class to use - see custom acquisition tutorial\n",
    "    # botorch_acqf_class=qExpectedImprovement,\n",
    ")\n"
   ],
   "metadata": {
    "collapsed": false,
    "ExecuteTime": {
     "end_time": "2024-09-18T16:05:39.284077Z",
     "start_time": "2024-09-18T16:05:39.262344Z"
    }
   },
   "id": "5fc6d80880b61360",
   "execution_count": 5
  },
  {
   "cell_type": "code",
   "outputs": [],
   "source": [],
   "metadata": {
    "collapsed": false
   },
   "id": "2bf466e9e5367eef"
  }
 ],
 "metadata": {
  "kernelspec": {
   "display_name": "Python 3",
   "language": "python",
   "name": "python3"
  },
  "language_info": {
   "codemirror_mode": {
    "name": "ipython",
    "version": 2
   },
   "file_extension": ".py",
   "mimetype": "text/x-python",
   "name": "python",
   "nbconvert_exporter": "python",
   "pygments_lexer": "ipython2",
   "version": "2.7.6"
  }
 },
 "nbformat": 4,
 "nbformat_minor": 5
}
